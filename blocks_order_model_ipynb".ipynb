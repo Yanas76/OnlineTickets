{
  "cells": [
    {
      "cell_type": "markdown",
      "metadata": {
        "id": "view-in-github",
        "colab_type": "text"
      },
      "source": [
        "<a href=\"https://colab.research.google.com/github/Yanas76/OnlineTickets/blob/master/blocks_order_model_ipynb%22.ipynb\" target=\"_parent\"><img src=\"https://colab.research.google.com/assets/colab-badge.svg\" alt=\"Open In Colab\"/></a>"
      ]
    },
    {
      "cell_type": "code",
      "execution_count": null,
      "metadata": {
        "colab": {
          "base_uri": "https://localhost:8080/"
        },
        "id": "j74vn3k-Jg_R",
        "outputId": "deb5b84e-844d-4205-9784-2bcbadf23e64"
      },
      "outputs": [
        {
          "output_type": "stream",
          "name": "stdout",
          "text": [
            "2.3.0+cu121\n",
            "\u001b[2K     \u001b[90m━━━━━━━━━━━━━━━━━━━━━━━━━━━━━━━━━━━━━━━━\u001b[0m \u001b[32m10.9/10.9 MB\u001b[0m \u001b[31m39.2 MB/s\u001b[0m eta \u001b[36m0:00:00\u001b[0m\n",
            "\u001b[2K     \u001b[90m━━━━━━━━━━━━━━━━━━━━━━━━━━━━━━━━━━━━━━━━\u001b[0m \u001b[32m5.1/5.1 MB\u001b[0m \u001b[31m20.3 MB/s\u001b[0m eta \u001b[36m0:00:00\u001b[0m\n",
            "\u001b[?25h"
          ]
        }
      ],
      "source": [
        "import os\n",
        "import torch\n",
        "import torch.nn as nn\n",
        "import torch.nn.functional as F\n",
        "import torch.optim as optim\n",
        "\n",
        "os.environ['TORCH'] = torch.__version__\n",
        "print(torch.__version__)\n",
        "\n",
        "!pip install -q torch-scatter -f https://data.pyg.org/whl/torch-${TORCH}.html\n",
        "!pip install -q torch-sparse -f https://data.pyg.org/whl/torch-${TORCH}.html\n"
      ]
    },
    {
      "cell_type": "code",
      "execution_count": null,
      "metadata": {
        "colab": {
          "base_uri": "https://localhost:8080/"
        },
        "id": "LEKSoZkzzsWe",
        "outputId": "33464ad0-3847-4290-b6cd-71e771e3a7e2"
      },
      "outputs": [
        {
          "output_type": "stream",
          "name": "stdout",
          "text": [
            "Mounted at /content/drive\n"
          ]
        }
      ],
      "source": [
        "from google.colab import drive\n",
        "drive.mount('/content/drive')"
      ]
    },
    {
      "cell_type": "markdown",
      "metadata": {
        "id": "2H_te7CN5CkH"
      },
      "source": [
        "Extract data"
      ]
    },
    {
      "cell_type": "code",
      "execution_count": null,
      "metadata": {
        "colab": {
          "base_uri": "https://localhost:8080/"
        },
        "id": "lmqBMQSv1Lds",
        "outputId": "1739e630-3cbc-4405-eebc-0cee3a4e9c7f"
      },
      "outputs": [
        {
          "output_type": "stream",
          "name": "stdout",
          "text": [
            "1928\n"
          ]
        }
      ],
      "source": [
        "import os\n",
        "import json\n",
        "import copy\n",
        "\n",
        "def json_files_to_arrays(folder_path):\n",
        "\n",
        "    result = []\n",
        "\n",
        "    for filename in os.listdir(folder_path):\n",
        "        transformed_data = []\n",
        "\n",
        "        if filename.endswith('.json'):\n",
        "            file_path = os.path.join(folder_path, filename)\n",
        "\n",
        "            with open(file_path, 'r') as file:\n",
        "                json_data = json.load(file)\n",
        "\n",
        "                for item in json_data:\n",
        "                    x1 = item['x1']\n",
        "                    y1 = item['y1']\n",
        "                    x2 = item['x2']\n",
        "                    y2 = item['y2']\n",
        "\n",
        "                    transformed_data.append([x1, y1, x2, y2])\n",
        "\n",
        "                if len(transformed_data) > 1:\n",
        "                  result.append(transformed_data)\n",
        "\n",
        "    return result\n",
        "\n",
        "data_folder = '/content/drive/MyDrive/text_blocks_locations'\n",
        "transformed_data = json_files_to_arrays(data_folder)\n",
        "print(len(transformed_data))"
      ]
    },
    {
      "cell_type": "markdown",
      "metadata": {
        "id": "3S-HDs7Z5SWm"
      },
      "source": [
        "Generate and visualize dataset"
      ]
    },
    {
      "cell_type": "code",
      "execution_count": null,
      "metadata": {
        "id": "obNclrFK1M90"
      },
      "outputs": [],
      "source": [
        "import math\n",
        "\n",
        "def rotate_bbox_coordinates(bboxes, angle, origin_point):\n",
        "\n",
        "    rotated_bboxes = []\n",
        "    angle_rad = math.radians(angle)\n",
        "    cos_theta = math.cos(angle_rad)\n",
        "    sin_theta = math.sin(angle_rad)\n",
        "\n",
        "    for bbox in bboxes:\n",
        "\n",
        "        x1, y1, x3, y3 = bbox\n",
        "        x2 = x3\n",
        "        y2 = y1\n",
        "        x4 = x1\n",
        "        y4 = y3\n",
        "\n",
        "        translated_x1 = x1 - origin_point[0]\n",
        "        translated_y1 = y1 - origin_point[1]\n",
        "        translated_x3 = x3 - origin_point[0]\n",
        "        translated_y3 = y3 - origin_point[1]\n",
        "\n",
        "        translated_x2 = x2 - origin_point[0]\n",
        "        translated_y2 = y2 - origin_point[1]\n",
        "        translated_x4 = x4 - origin_point[0]\n",
        "        translated_y4 = y4 - origin_point[1]\n",
        "\n",
        "        rotated_x1 = translated_x1 * cos_theta - translated_y1 * sin_theta\n",
        "        rotated_y1 = translated_x1 * sin_theta + translated_y1 * cos_theta\n",
        "        rotated_x3 = translated_x3 * cos_theta - translated_y3 * sin_theta\n",
        "        rotated_y3 = translated_x3 * sin_theta + translated_y3 * cos_theta\n",
        "\n",
        "        rotated_x2 = translated_x2 * cos_theta - translated_y2 * sin_theta\n",
        "        rotated_y2 = translated_x2 * sin_theta + translated_y2 * cos_theta\n",
        "        rotated_x4 = translated_x4 * cos_theta - translated_y4 * sin_theta\n",
        "        rotated_y4 = translated_x4 * sin_theta + translated_y4 * cos_theta\n",
        "\n",
        "        final_x1 = rotated_x1 + origin_point[0]\n",
        "        final_y1 = rotated_y1 + origin_point[1]\n",
        "        final_x3 = rotated_x3 + origin_point[0]\n",
        "        final_y3 = rotated_y3 + origin_point[1]\n",
        "\n",
        "        final_x2 = rotated_x2 + origin_point[0]\n",
        "        final_y2 = rotated_y2 + origin_point[1]\n",
        "        final_x4 = rotated_x4 + origin_point[0]\n",
        "        final_y4 = rotated_y4 + origin_point[1]\n",
        "\n",
        "        rotated_bboxes.append([[final_x1, final_y1], [final_x2, final_y2], [final_x3, final_y3], [final_x4, final_y4]])\n",
        "\n",
        "    min_x = min(point[0] for bbox in rotated_bboxes for point in bbox)\n",
        "    min_y = min(point[1] for bbox in rotated_bboxes for point in bbox)\n",
        "\n",
        "    if min_x < 0:\n",
        "      for bbox in rotated_bboxes:\n",
        "         for point in bbox:\n",
        "            point[0] += abs(min_x)\n",
        "\n",
        "    if min_y < 0:\n",
        "      for bbox in rotated_bboxes:\n",
        "         for point in bbox:\n",
        "            point[1] += abs(min_y)\n",
        "\n",
        "    return rotated_bboxes\n"
      ]
    },
    {
      "cell_type": "code",
      "execution_count": null,
      "metadata": {
        "id": "ea7Ou3HuIt53"
      },
      "outputs": [],
      "source": [
        "import random\n",
        "\n",
        "def generate_dataset(data, rotated_amount, angle_range):\n",
        "\n",
        "    dataset = []\n",
        "\n",
        "    for d in data:\n",
        "\n",
        "        max_x = max(point[0] for point in d)\n",
        "        max_y = max(point[1] for point in d)\n",
        "\n",
        "        for i in range(rotated_amount):\n",
        "\n",
        "          order = list(range(1, len(d) + 1))\n",
        "          angle = random.randint(-angle_range, angle_range)\n",
        "          origin = [random.uniform(0, max_x), random.uniform(0, max_y)]\n",
        "          rotated = rotate_bbox_coordinates(d, angle, origin)\n",
        "          swaps = random.randint(0, len(order) // 2)\n",
        "\n",
        "          for j in range(swaps):\n",
        "\n",
        "            pos1 = random.randint(0, len(order) - 1)\n",
        "            pos2 = random.randint(0, len(order) - 1)\n",
        "            order[pos1], order[pos2] = order[pos2], order[pos1]\n",
        "            rotated[pos1], rotated[pos2] = rotated[pos2], rotated[pos1]\n",
        "\n",
        "          dataset.append([rotated, order])\n",
        "\n",
        "    return dataset\n",
        "\n",
        "\n",
        "dataset = generate_dataset(transformed_data, 3, 20)"
      ]
    },
    {
      "cell_type": "code",
      "execution_count": null,
      "metadata": {
        "colab": {
          "base_uri": "https://localhost:8080/",
          "height": 449
        },
        "id": "ZNkFTBRCxvab",
        "outputId": "1771a9ed-36dd-4adb-edc4-420403b76a05"
      },
      "outputs": [
        {
          "output_type": "display_data",
          "data": {
            "text/plain": [
              "<Figure size 640x480 with 1 Axes>"
            ],
            "image/png": "[encoded data removed]"
          },
          "metadata": {}
        }
      ],
      "source": [
        "import matplotlib.pyplot as plt\n",
        "from matplotlib.patches import Polygon\n",
        "\n",
        "def plot_rotated_bbox(rotated_bboxes, order=None):\n",
        "\n",
        "    fig, ax = plt.subplots()\n",
        "\n",
        "    for i, bbox in enumerate(rotated_bboxes):\n",
        "\n",
        "        x1, y1 = bbox[0]\n",
        "        x2, y2 = bbox[1]\n",
        "        x3, y3 = bbox[2]\n",
        "        x4, y4 = bbox[3]\n",
        "\n",
        "        polygon = Polygon([[x1, y1], [x2, y2], [x3, y3], [x4, y4]], closed=True, fill=None, edgecolor='r')\n",
        "        ax.add_patch(polygon)\n",
        "\n",
        "        centroid_x = (x1 + x2 + x3 + x4) / 4\n",
        "        centroid_y = (y1 + y2 + y3 + y4) / 4\n",
        "\n",
        "        label = str(i + 1) + \" / \" + str(order[i])\n",
        "        ax.text(centroid_x, centroid_y, label, color='black', ha='center', va='center')\n",
        "\n",
        "    plt.gca().invert_yaxis()\n",
        "    ax.autoscale_view()\n",
        "    plt.xlabel('X')\n",
        "    plt.ylabel('Y')\n",
        "    plt.gca().set_aspect('equal', adjustable='box')\n",
        "    plt.grid(True)\n",
        "    plt.show()\n",
        "\n",
        "\n",
        "n = 100\n",
        "plot_rotated_bbox(dataset[n][0], dataset[n][1])"
      ]
    },
    {
      "cell_type": "markdown",
      "metadata": {
        "id": "fNsStXV85aWA"
      },
      "source": [
        "Generate dataset"
      ]
    },
    {
      "cell_type": "code",
      "execution_count": null,
      "metadata": {
        "id": "43etyXoR1rFn"
      },
      "outputs": [],
      "source": [
        "def normalize_row_col_4p(blocks):\n",
        "\n",
        "  result = []\n",
        "  x_max = 0\n",
        "  y_max = 0\n",
        "  x_min = float('inf')\n",
        "  y_min = float('inf')\n",
        "\n",
        "  for block in blocks:\n",
        "    for point in block:\n",
        "      if point[0] > x_max: x_max = point[0]\n",
        "      if point[1] > y_max: y_max = point[1]\n",
        "      if point[0] < x_min: x_min = point[0]\n",
        "      if point[1] < y_min: y_min = point[1]\n",
        "\n",
        "  x_max -= x_min\n",
        "  y_max -= y_min\n",
        "\n",
        "  for block in blocks:\n",
        "    for point in block:\n",
        "      point[0] -= x_min\n",
        "      point[1] -= y_min\n",
        "\n",
        "  for block in blocks:\n",
        "    normalized_block = []\n",
        "    for point in block:\n",
        "      x = point[0] / x_max\n",
        "      y = point[1] / y_max\n",
        "      normalized_block.append([x, y])\n",
        "    result.append(normalized_block)\n",
        "\n",
        "  return result\n"
      ]
    },
    {
      "cell_type": "code",
      "execution_count": null,
      "metadata": {
        "id": "Q5B9lInHDYDt"
      },
      "outputs": [],
      "source": [
        "def prepare_data_4p(dataset):\n",
        "\n",
        "    inputs_list = [example[0] for example in dataset]\n",
        "    labels_list = [example[1] for example in dataset]\n",
        "    return inputs_list, labels_list\n"
      ]
    },
    {
      "cell_type": "code",
      "execution_count": null,
      "metadata": {
        "id": "ua35-4RVPHad"
      },
      "outputs": [],
      "source": [
        "import numpy as np\n",
        "\n",
        "def generate_first_block_dataset(dataset):\n",
        "\n",
        "    blocks = []\n",
        "    ground_truths = []\n",
        "    data_len = len(dataset[0])\n",
        "\n",
        "    for i in range(data_len):\n",
        "\n",
        "        bl = dataset[0][i]\n",
        "        labels = dataset[1][i]\n",
        "        l = len(labels)\n",
        "\n",
        "        for j in range(l - 1):\n",
        "\n",
        "          index = np.argmin(labels)\n",
        "          truth = [0] * len(labels)\n",
        "          truth[index] = 1\n",
        "\n",
        "          bl = normalize_row_col_4p(bl)\n",
        "          blocks.append(copy.deepcopy(bl))\n",
        "          ground_truths.append(truth)\n",
        "\n",
        "          del bl[index]\n",
        "          del labels[index]\n",
        "\n",
        "    return blocks, ground_truths"
      ]
    },
    {
      "cell_type": "code",
      "execution_count": null,
      "metadata": {
        "colab": {
          "base_uri": "https://localhost:8080/"
        },
        "id": "J4trPtadQ4Y6",
        "outputId": "22334456-2be2-470f-f224-70d6d7bf3fb2"
      },
      "outputs": [
        {
          "output_type": "stream",
          "name": "stdout",
          "text": [
            "29781\n",
            "29781\n",
            "[[[0.5246220909119609, 0.5679610533522349], [0.9617667470817647, 0.5997144316361454], [0.9498534871144882, 0.7766878033328563], [0.5127088309446846, 0.7449344250489458]], [[0.029275220229663314, 0.5333585687869628], [0.46641987639946697, 0.5651119470708732], [0.45459896728465027, 0.7407134321652838], [0.0174543111148466, 0.7089600538813735]], [[0.015237890655818445, 0.7418853323365755], [0.4523825468256221, 0.773638710620486], [0.4371446561698037, 1.0], [0.0, 0.9682466217160897]], [[0.5628553438301962, 0.0], [1.0, 0.03175337828391047], [0.9847621093441816, 0.25811466766342445], [0.5476174531743778, 0.2263612893795139]], [[0.5740158955288732, 0.5219195151489207], [0.9279577923672643, 0.5476291990766791], [0.9253719684983979, 0.5860420239410813], [0.571430071660007, 0.5603323400133231]], [[0.5454010327153497, 0.25928656783471604], [0.9825456888851534, 0.2910399461186265], [0.967307798229335, 0.5174012354981403], [0.5301631420595312, 0.48564785721423]]]\n",
            "[0, 1, 0, 0, 0, 0]\n"
          ]
        }
      ],
      "source": [
        "import copy\n",
        "\n",
        "d2 = prepare_data_4p(dataset)\n",
        "blocks, truths = generate_first_block_dataset(copy.deepcopy(d2))\n",
        "\n",
        "print(len(blocks))\n",
        "print(len(truths))\n",
        "print(blocks[100])\n",
        "print(truths[100])"
      ]
    },
    {
      "cell_type": "markdown",
      "metadata": {
        "id": "57QCTlDNRt85"
      },
      "source": [
        "## Final"
      ]
    },
    {
      "cell_type": "code",
      "source": [
        "\n",
        "class FB_Model(nn.Module):\n",
        "\n",
        "    def __init__(self, input_size, hidden_size):\n",
        "        super(FB_Model, self).__init__()\n",
        "\n",
        "        self.input_size = input_size\n",
        "        self.hidden_size = hidden_size\n",
        "        self.fc1 = nn.Linear(input_size, hidden_size)\n",
        "        self.fc2 = nn.Linear(hidden_size, 1)\n",
        "        self.relu = nn.ReLU()\n",
        "\n",
        "\n",
        "    def forward(self, blocks):\n",
        "\n",
        "        x = self.change_format(blocks)\n",
        "\n",
        "        x = self.fc1(x)\n",
        "        x = self.relu(x)\n",
        "        x = self.fc2(x)\n",
        "        x = torch.squeeze(x)\n",
        "        x = F.softmax(x, dim=0)\n",
        "\n",
        "        return x\n",
        "\n",
        "\n",
        "    def change_format(self, blocks):\n",
        "\n",
        "        x = []\n",
        "        e = 0.0001\n",
        "        for b in blocks:\n",
        "          x.append([b[0][0] + e, b[1][0] + e, b[2][0] + e, b[3][0] + e, b[0][1] + e, b[1][1] + e, b[2][1] + e, b[3][1]+ e])\n",
        "\n",
        "        x = torch.tensor(x, dtype=torch.float32)\n",
        "        return x\n"
      ],
      "metadata": {
        "id": "ZaaaRq-1szyB"
      },
      "execution_count": null,
      "outputs": []
    },
    {
      "cell_type": "code",
      "execution_count": null,
      "metadata": {
        "colab": {
          "base_uri": "https://localhost:8080/"
        },
        "id": "191B-_JeVqFe",
        "outputId": "5a74ce2a-ec47-44fb-c71e-28f6237243e2"
      },
      "outputs": [
        {
          "output_type": "stream",
          "name": "stdout",
          "text": [
            "Epoch 0, Loss: 1.0867409846186638\n",
            "Epoch 10, Loss: 0.8809674802422524\n",
            "Epoch 20, Loss: 0.8799520182609558\n",
            "Epoch 30, Loss: 0.8797826799750328\n"
          ]
        }
      ],
      "source": [
        "\n",
        "def train(dataset, num_epochs=30, lr=0.01):\n",
        "\n",
        "    input_size = 8\n",
        "    hidden_size = 64\n",
        "\n",
        "    model = FB_Model(input_size, hidden_size)\n",
        "    criterion = nn.CrossEntropyLoss()\n",
        "    optimizer = optim.Adam(model.parameters(), lr=lr)\n",
        "    blocks, labels = dataset\n",
        "    previous_loss = float('inf')\n",
        "\n",
        "    for epoch in range(num_epochs + 1):\n",
        "\n",
        "        model.train()\n",
        "        total_loss = 0.0\n",
        "\n",
        "        for i in range(len(blocks)):\n",
        "\n",
        "            b = blocks[i]\n",
        "            l = torch.tensor(labels[i], dtype=torch.float)\n",
        "            output = model(b)\n",
        "\n",
        "            loss = criterion(output, l)\n",
        "            total_loss += loss.item()\n",
        "\n",
        "            optimizer.zero_grad()\n",
        "            loss.backward()\n",
        "            optimizer.step()\n",
        "\n",
        "        average_loss = total_loss / len(blocks)\n",
        "\n",
        "        if average_loss == previous_loss:\n",
        "            print(f'Epoch {epoch}, Loss: {average_loss}')\n",
        "            print(\"Loss doesn`t change! Stopping!\")\n",
        "            break\n",
        "\n",
        "        previous_loss = average_loss\n",
        "\n",
        "        if epoch % 10 == 0:\n",
        "            print(f'Epoch {epoch}, Loss: {average_loss}')\n",
        "\n",
        "    return model\n",
        "\n",
        "n = 200\n",
        "model = train((blocks[:n], truths[:n]))"
      ]
    },
    {
      "cell_type": "code",
      "execution_count": null,
      "metadata": {
        "id": "MShKJQHR6YJ-"
      },
      "outputs": [],
      "source": [
        "def reorder_objects(objects, positions):\n",
        "\n",
        "    combined = zip(objects, positions)\n",
        "    sorted_combined = sorted(combined, key=lambda x: x[1])\n",
        "    reordered_objects = [item[0] for item in sorted_combined]\n",
        "\n",
        "    return reordered_objects"
      ]
    },
    {
      "cell_type": "code",
      "execution_count": null,
      "metadata": {
        "id": "RHvvZkB7WvIy"
      },
      "outputs": [],
      "source": [
        "def connect_f(blocks, model):\n",
        "\n",
        "    order = []\n",
        "    while len(blocks) > 1:\n",
        "\n",
        "        bl = normalize_row_col_4p(copy.deepcopy(blocks))\n",
        "        probabilities = model(bl).detach().numpy()\n",
        "        i = np.argmax(probabilities)\n",
        "        order.append(blocks[i])\n",
        "        del blocks[i]\n",
        "\n",
        "    order.append(blocks[0])\n",
        "    return order\n"
      ]
    },
    {
      "cell_type": "code",
      "source": [
        "import copy\n",
        "\n",
        "def get_c(blocks):\n",
        "    return [[round(p[0], 2), round(p[1], 2)] for p in blocks]\n",
        "\n",
        "def print_unordered_blocks(nodes):\n",
        "\n",
        "    for node in nodes:\n",
        "        print(get_c(node))\n",
        "    print()\n",
        "\n",
        "def print_comparison(truth, result, column_width=70):\n",
        "\n",
        "    print(f\"{'Ground truth:':<{column_width}} Model output:\")\n",
        "    for t, r in zip(truth, result):\n",
        "        print(f\"{str(get_c(t)):<{column_width}} {str(get_c(r))}\")\n",
        "    print()\n",
        "\n",
        "def reorder_blocks(n, dataset, model):\n",
        "\n",
        "    nodes_f = normalize_row_col_4p(copy.deepcopy(dataset[n][0]))\n",
        "    result = connect_f(copy.deepcopy(nodes_f), model)\n",
        "    truth = reorder_objects(copy.deepcopy(nodes_f), dataset[n][1])\n",
        "\n",
        "    print_unordered_blocks(nodes_f)\n",
        "    print_comparison(truth, result)\n",
        "    plot_rotated_bbox(dataset[n][0], dataset[n][1])\n",
        "\n",
        "n = 200\n",
        "reorder_blocks(n, dataset, model)"
      ],
      "metadata": {
        "colab": {
          "base_uri": "https://localhost:8080/",
          "height": 709
        },
        "id": "VNMU39-Pq8Rh",
        "outputId": "47a439fa-eb38-4779-cc17-1d0f82952bde"
      },
      "execution_count": null,
      "outputs": [
        {
          "output_type": "stream",
          "name": "stdout",
          "text": [
            "[[0.04, 0.25], [0.98, 0.26], [0.98, 0.31], [0.04, 0.3]]\n",
            "[[0.01, 0.76], [0.98, 0.77], [0.97, 1.0], [0.0, 0.99]]\n",
            "[[0.07, 0.0], [0.87, 0.01], [0.86, 0.05], [0.07, 0.04]]\n",
            "[[0.02, 0.51], [0.98, 0.52], [0.98, 0.75], [0.01, 0.74]]\n",
            "[[0.02, 0.32], [0.99, 0.32], [0.99, 0.49], [0.02, 0.48]]\n",
            "[[0.03, 0.05], [1.0, 0.06], [0.99, 0.24], [0.03, 0.23]]\n",
            "\n",
            "Ground truth:                                                          Model output:\n",
            "[[0.07, 0.0], [0.87, 0.01], [0.86, 0.05], [0.07, 0.04]]                [[0.07, 0.0], [0.87, 0.01], [0.86, 0.05], [0.07, 0.04]]\n",
            "[[0.03, 0.05], [1.0, 0.06], [0.99, 0.24], [0.03, 0.23]]                [[0.03, 0.05], [1.0, 0.06], [0.99, 0.24], [0.03, 0.23]]\n",
            "[[0.04, 0.25], [0.98, 0.26], [0.98, 0.31], [0.04, 0.3]]                [[0.04, 0.25], [0.98, 0.26], [0.98, 0.31], [0.04, 0.3]]\n",
            "[[0.02, 0.32], [0.99, 0.32], [0.99, 0.49], [0.02, 0.48]]               [[0.02, 0.32], [0.99, 0.32], [0.99, 0.49], [0.02, 0.48]]\n",
            "[[0.02, 0.51], [0.98, 0.52], [0.98, 0.75], [0.01, 0.74]]               [[0.02, 0.51], [0.98, 0.52], [0.98, 0.75], [0.01, 0.74]]\n",
            "[[0.01, 0.76], [0.98, 0.77], [0.97, 1.0], [0.0, 0.99]]                 [[0.01, 0.76], [0.98, 0.77], [0.97, 1.0], [0.0, 0.99]]\n",
            "\n"
          ]
        },
        {
          "output_type": "display_data",
          "data": {
            "text/plain": [
              "<Figure size 640x480 with 1 Axes>"
            ],
            "image/png": "[encoded data removed]"
          },
          "metadata": {}
        }
      ]
    }
  ],
  "metadata": {
    "colab": {
      "provenance": [],
      "mount_file_id": "1BGg71dLxB78JkyGwuDT-v76cHujOBUgx",
      "authorship_tag": "ABX9TyOyieZ9uiJKV7W0qT8XJYji",
      "include_colab_link": true
    },
    "kernelspec": {
      "display_name": "Python 3",
      "name": "python3"
    },
    "language_info": {
      "name": "python"
    }
  },
  "nbformat": 4,
  "nbformat_minor": 0
}